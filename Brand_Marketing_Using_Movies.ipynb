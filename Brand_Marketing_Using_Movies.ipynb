{
  "nbformat": 4,
  "nbformat_minor": 0,
  "metadata": {
    "colab": {
      "provenance": []
    },
    "kernelspec": {
      "name": "python3",
      "display_name": "Python 3"
    },
    "language_info": {
      "name": "python"
    }
  },
  "cells": [
    {
      "cell_type": "code",
      "execution_count": null,
      "metadata": {
        "colab": {
          "base_uri": "https://localhost:8080/"
        },
        "id": "x7lxNumev-6B",
        "outputId": "96bf68bb-4802-43d9-a2d6-cad2089078b7"
      },
      "outputs": [
        {
          "output_type": "stream",
          "name": "stdout",
          "text": [
            "Requirement already satisfied: openai in /usr/local/lib/python3.11/dist-packages (1.59.9)\n",
            "Requirement already satisfied: anyio<5,>=3.5.0 in /usr/local/lib/python3.11/dist-packages (from openai) (3.7.1)\n",
            "Requirement already satisfied: distro<2,>=1.7.0 in /usr/local/lib/python3.11/dist-packages (from openai) (1.9.0)\n",
            "Requirement already satisfied: httpx<1,>=0.23.0 in /usr/local/lib/python3.11/dist-packages (from openai) (0.28.1)\n",
            "Requirement already satisfied: jiter<1,>=0.4.0 in /usr/local/lib/python3.11/dist-packages (from openai) (0.8.2)\n",
            "Requirement already satisfied: pydantic<3,>=1.9.0 in /usr/local/lib/python3.11/dist-packages (from openai) (2.10.5)\n",
            "Requirement already satisfied: sniffio in /usr/local/lib/python3.11/dist-packages (from openai) (1.3.1)\n",
            "Requirement already satisfied: tqdm>4 in /usr/local/lib/python3.11/dist-packages (from openai) (4.67.1)\n",
            "Requirement already satisfied: typing-extensions<5,>=4.11 in /usr/local/lib/python3.11/dist-packages (from openai) (4.12.2)\n",
            "Requirement already satisfied: idna>=2.8 in /usr/local/lib/python3.11/dist-packages (from anyio<5,>=3.5.0->openai) (3.10)\n",
            "Requirement already satisfied: certifi in /usr/local/lib/python3.11/dist-packages (from httpx<1,>=0.23.0->openai) (2024.12.14)\n",
            "Requirement already satisfied: httpcore==1.* in /usr/local/lib/python3.11/dist-packages (from httpx<1,>=0.23.0->openai) (1.0.7)\n",
            "Requirement already satisfied: h11<0.15,>=0.13 in /usr/local/lib/python3.11/dist-packages (from httpcore==1.*->httpx<1,>=0.23.0->openai) (0.14.0)\n",
            "Requirement already satisfied: annotated-types>=0.6.0 in /usr/local/lib/python3.11/dist-packages (from pydantic<3,>=1.9.0->openai) (0.7.0)\n",
            "Requirement already satisfied: pydantic-core==2.27.2 in /usr/local/lib/python3.11/dist-packages (from pydantic<3,>=1.9.0->openai) (2.27.2)\n"
          ]
        }
      ],
      "source": [
        "!pip install openai"
      ]
    },
    {
      "cell_type": "code",
      "source": [
        "from openai import OpenAI\n",
        "import pandas as pd\n",
        "\n",
        "movies = pd.read_excel(\"/content/data.xlsx\")\n",
        "\n",
        "def get_movie_data(film):\n",
        "    prompt = f\"\"\"\n",
        "    For the movie '{film}', provide the following information:\n",
        "    1. Is the main feature a Brand (1), Firm (2), or a Person affiliated with a Brand or Firm (3)?\n",
        "    2. If it's a Firm, name the Firm.\n",
        "    3. What is the type of product featured (e.g., Toy, Fast Food, Electronics)?\n",
        "    Please format your response as: [Code, Firm Name, Product Type].\n",
        "    \"\"\"\n",
        "\n",
        "\n",
        "    client = OpenAI(\n",
        "        api_key=\"YOUR_OPENAI_API_KEY\"\n",
        "    )\n",
        "\n",
        "\n",
        "    response = client.chat.completions.create(\n",
        "        model=\"gpt-4o-mini\",\n",
        "        messages=[\n",
        "            {\"role\": \"developer\", \"content\": \"You are an assistant specialized in analyzing movie features.\"},\n",
        "            {\"role\": \"user\", \"content\": prompt}\n",
        "        ],\n",
        "        temperature=0.5\n",
        "    )\n",
        "    content = response.choices[0].message.content\n",
        "    return content\n",
        "\n",
        "results = []\n",
        "for _, movie in movies.iterrows():\n",
        "    try:\n",
        "        result = get_movie_data(movie['Film'])\n",
        "        code, firm_name, product_type = [item.strip() for item in result.strip(\"[]\").split(\",\")]\n",
        "        results.append({\n",
        "            \"Film\": movie[\"Film\"],\n",
        "            \"Film Release Date\": movie[\"Film release date\"],\n",
        "            \"Market for Film Release\": movie[\"Market for film releae\"],\n",
        "            \"Brand=1, Firm=2, Person=3\": code,\n",
        "            \"Firm in Film\": firm_name,\n",
        "            \"What is the Product Being Featured\": product_type\n",
        "        })\n",
        "    except Exception as e:\n",
        "        print(f\"Error processing {movie['Film']}: {e}\")\n",
        "        continue\n",
        "\n",
        "df = pd.DataFrame(results)\n",
        "df.to_csv(\"branded_movies_data.csv\", index=False)\n",
        "\n",
        "print(\"Data extraction complete. Results saved to 'branded_movies_data.csv'.\")\n"
      ],
      "metadata": {
        "colab": {
          "base_uri": "https://localhost:8080/"
        },
        "id": "CrBqrkvKMnXX",
        "outputId": "ceaa2fd0-da22-4376-971a-f9dbe87c9f29"
      },
      "execution_count": null,
      "outputs": [
        {
          "output_type": "stream",
          "name": "stdout",
          "text": [
            "Data extraction complete. Results saved to 'branded_movies_data.csv'.\n"
          ]
        }
      ]
    }
  ]
}